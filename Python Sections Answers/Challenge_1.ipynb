{
 "cells": [
  {
   "cell_type": "code",
   "execution_count": 1,
   "id": "7c5cfba2-52a6-4275-b9b4-88fe545fd7a6",
   "metadata": {},
   "outputs": [],
   "source": [
    "import pandas as pd\n",
    "import json \n",
    "import requests"
   ]
  },
  {
   "cell_type": "code",
   "execution_count": 2,
   "id": "271ab244-a3b8-4226-8525-141196a86ca1",
   "metadata": {},
   "outputs": [],
   "source": [
    "def access_api():\n",
    "    \"\"\"\n",
    "    Description: fucntion to get a json from a API and transform into a python dictionary\n",
    "    \n",
    "    INPUT: do not get an input, but if ypu want is possible to get the url but only will works to that specific API\n",
    "    \n",
    "    OUTPUT: return a python dictionary from the json got from the API\n",
    "    \"\"\"\n",
    "    \n",
    "    # Endpoint\n",
    "    endpoint_url =  'https://api.stackexchange.com/2.2/search?order=desc&sort=activity&intitle=perl&site=stackoverflow'\n",
    "\n",
    "    # Request\n",
    "    res = requests.get(endpoint_url)\n",
    "    \n",
    "    #Data parsing\n",
    "    results = json.loads(res.content)\n",
    "    return results"
   ]
  },
  {
   "cell_type": "code",
   "execution_count": 3,
   "id": "a5a6c062-b671-42ca-8b9f-c5960c486216",
   "metadata": {},
   "outputs": [],
   "source": [
    "#get the python dictionary and saving in a variabel\n",
    "response_json = access_api()"
   ]
  },
  {
   "cell_type": "code",
   "execution_count": 4,
   "id": "334c4686-14f8-44fe-8ab5-278b80fd9002",
   "metadata": {},
   "outputs": [],
   "source": [
    "#clean from the JSON the tags, so the owner information can be obtained, dividing the information in two dataframes, one having the information of the owner and the other the rest\n",
    "\n",
    "info_list = []\n",
    "\n",
    "owner_list = []\n",
    "\n",
    "\n",
    "for id_, doc in enumerate(response_json['items']):\n",
    "    #getting all the keys but owner\n",
    "    columns = set(doc.keys()) - set(['owner'])\n",
    "    \n",
    "    #getting the information from each record except owner\n",
    "    row_first_list = {key: doc[key] for key in columns}\n",
    "    \n",
    "    #assigning id\n",
    "    row_first_list['id'] = id_\n",
    "    \n",
    "    #adding the row to the list\n",
    "    info_list.append(row_first_list)\n",
    "    \n",
    "    #getting the information of the owner\n",
    "    row_second_list = doc['owner'].copy()\n",
    "    \n",
    "    #assigning id\n",
    "    row_second_list['id'] = id_\n",
    "    \n",
    "    #adding the row\n",
    "    owner_list.append(row_second_list)\n",
    "    "
   ]
  },
  {
   "cell_type": "code",
   "execution_count": 5,
   "id": "04335a27-a78d-40a1-831e-28f3d76e630c",
   "metadata": {},
   "outputs": [],
   "source": [
    "info_df = pd.DataFrame(info_list)\n",
    "owner_df = pd.DataFrame(owner_list)"
   ]
  },
  {
   "cell_type": "code",
   "execution_count": 6,
   "id": "c5a6b97c-7d1f-4acd-99e3-a45f3c57a8ba",
   "metadata": {},
   "outputs": [],
   "source": [
    "non_contested = info_df[info_df.answer_count == 0].shape[0]\n",
    "\n",
    "number_contested = info_df[info_df.answer_count > 0].shape[0]"
   ]
  },
  {
   "cell_type": "code",
   "execution_count": 7,
   "id": "54888682-3f32-4da0-9bc5-15006ad69d1e",
   "metadata": {},
   "outputs": [
    {
     "name": "stdout",
     "output_type": "stream",
     "text": [
      "The Number of answered are: 24\n",
      "The number of not answered: 6\n"
     ]
    }
   ],
   "source": [
    "print('The Number of answered are: {}\\nThe number of not answered: {}'.format(number_contested, non_contested))"
   ]
  },
  {
   "cell_type": "code",
   "execution_count": 8,
   "id": "0e422ce7-3979-46bd-bb94-aa7ff093f9e0",
   "metadata": {},
   "outputs": [
    {
     "data": {
      "text/plain": [
       "Index(['is_answered', 'score', 'question_id', 'view_count', 'creation_date',\n",
       "       'tags', 'answer_count', 'last_activity_date', 'link', 'title',\n",
       "       'content_license', 'id', 'last_edit_date', 'accepted_answer_id',\n",
       "       'closed_reason', 'closed_date'],\n",
       "      dtype='object')"
      ]
     },
     "execution_count": 8,
     "metadata": {},
     "output_type": "execute_result"
    }
   ],
   "source": [
    "info_df.columns"
   ]
  },
  {
   "cell_type": "code",
   "execution_count": 9,
   "id": "9251a087-bbdc-4e4f-86d9-891493f02337",
   "metadata": {},
   "outputs": [],
   "source": [
    "view_count, link, _id = info_df[info_df['view_count'] == info_df['view_count'].min()][['view_count', 'link', 'id']].values.tolist()[0]"
   ]
  },
  {
   "cell_type": "code",
   "execution_count": 10,
   "id": "d48a9ad1-81bc-4c27-9c23-c05b9b160a1e",
   "metadata": {},
   "outputs": [
    {
     "name": "stdout",
     "output_type": "stream",
     "text": [
      "La respuesta con menor número de visitas tiene id: 15\n",
      "Es del link: https://stackoverflow.com/questions/73167201/counting-number-of-sub-hierarchies-in-a-text-file-using-perl-scripting\n",
      "Tiene: 21 visitas\n"
     ]
    }
   ],
   "source": [
    "print('La respuesta con menor número de visitas tiene id: {}\\nEs del link: {}\\nTiene: {} visitas'.format(_id, link, view_count))"
   ]
  },
  {
   "cell_type": "code",
   "execution_count": 11,
   "id": "b9c9f52f-52a6-4b05-b4d6-e61190f7819b",
   "metadata": {},
   "outputs": [],
   "source": [
    "#getting an understandable date format\n",
    "info_df['creation_date'] = pd.to_datetime(info_df['creation_date'], unit = 's')"
   ]
  },
  {
   "cell_type": "code",
   "execution_count": 12,
   "id": "7e3f740e-d554-46da-a772-4ef42afff232",
   "metadata": {},
   "outputs": [
    {
     "name": "stdout",
     "output_type": "stream",
     "text": [
      "La respuesta más vieja tiene id: 16\n",
      "Es del link: https://stackoverflow.com/questions/2487829/whats-the-right-way-to-kill-child-processes-in-perl-before-exiting\n",
      "Es de la fecha: 2010-03-21 16:43:23 visitas\n",
      "La respuesta más actual tiene id: 11\n",
      "Es del link: https://stackoverflow.com/questions/73168851/can-connect-to-mysql-database-through-cli-but-not-perl-dbi\n",
      "Es de la fecha: 2022-07-29 17:11:28 visitas\n"
     ]
    }
   ],
   "source": [
    "min_date, link_min, id_min =  info_df[info_df['creation_date'] == info_df['creation_date'].min()][['creation_date', 'link', 'id']].values.tolist()[0]\n",
    "\n",
    "max_date, link_max, id_max =  info_df[info_df['creation_date'] == info_df['creation_date'].max()][['creation_date', 'link', 'id']].values.tolist()[0]\n",
    "\n",
    "print('La respuesta más vieja tiene id: {}\\nEs del link: {}\\nEs de la fecha: {} visitas'.format(id_min, link_min, min_date))\n",
    "\n",
    "print('La respuesta más actual tiene id: {}\\nEs del link: {}\\nEs de la fecha: {} visitas'.format(id_max, link_max, max_date))"
   ]
  },
  {
   "cell_type": "code",
   "execution_count": 13,
   "id": "a66c5b4a-d445-4925-a56a-b3809eb66368",
   "metadata": {},
   "outputs": [
    {
     "name": "stdout",
     "output_type": "stream",
     "text": [
      "El usuario con mayor reputación tiene el id: 19\n",
      "Su user id es: 342740.0\n",
      "Su reputación es: 19233.0\n",
      "Su link de usuario es:https://stackoverflow.com/users/342740/prix\n",
      "El link de la respuesta es:https://stackoverflow.com/questions/3107540/c-public-key-verify-perl-private-key-and-use-as-aes-key-possible-and-or-viabl\n"
     ]
    }
   ],
   "source": [
    "user_id, reputation, link_ow, id_ow = owner_df[owner_df['reputation'] == owner_df['reputation'].max()][['user_id', 'reputation', 'link', 'id']].values.tolist()[0]\n",
    "\n",
    "link_answered = info_df[info_df['id'] == id_ow]['link'].values[0]\n",
    "\n",
    "print('El usuario con mayor reputación tiene el id: {}\\nSu user id es: {}\\nSu reputación es: {}\\nSu link de usuario es:{}\\nEl link de la respuesta es:{}'.format(id_ow, user_id, reputation, link_ow, link_answered))"
   ]
  },
  {
   "cell_type": "code",
   "execution_count": null,
   "id": "0096aaf3-75a0-4f30-83bf-544cfb175882",
   "metadata": {},
   "outputs": [],
   "source": []
  }
 ],
 "metadata": {
  "kernelspec": {
   "display_name": "Python 3 (ipykernel)",
   "language": "python",
   "name": "python3"
  },
  "language_info": {
   "codemirror_mode": {
    "name": "ipython",
    "version": 3
   },
   "file_extension": ".py",
   "mimetype": "text/x-python",
   "name": "python",
   "nbconvert_exporter": "python",
   "pygments_lexer": "ipython3",
   "version": "3.8.8"
  }
 },
 "nbformat": 4,
 "nbformat_minor": 5
}
